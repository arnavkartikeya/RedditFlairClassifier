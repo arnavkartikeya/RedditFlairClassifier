{
 "cells": [
  {
   "cell_type": "code",
   "execution_count": 8,
   "metadata": {
    "scrolled": true
   },
   "outputs": [
    {
     "name": "stdout",
     "output_type": "stream",
     "text": [
      "Requirement already satisfied: fasttext in /Users/arnavkartikeya/opt/anaconda3/lib/python3.8/site-packages (0.9.2)\r\n",
      "Requirement already satisfied: numpy in /Users/arnavkartikeya/opt/anaconda3/lib/python3.8/site-packages (from fasttext) (1.18.5)\r\n",
      "Requirement already satisfied: pybind11>=2.2 in /Users/arnavkartikeya/opt/anaconda3/lib/python3.8/site-packages (from fasttext) (2.6.2)\r\n",
      "Requirement already satisfied: setuptools>=0.7.0 in /Users/arnavkartikeya/opt/anaconda3/lib/python3.8/site-packages (from fasttext) (49.2.0.post20200714)\r\n"
     ]
    }
   ],
   "source": [
    "!pip install fasttext"
   ]
  },
  {
   "cell_type": "code",
   "execution_count": 46,
   "metadata": {},
   "outputs": [
    {
     "data": {
      "text/plain": [
       "(579, 0.9930915371329879, 0.9930915371329879)"
      ]
     },
     "execution_count": 46,
     "metadata": {},
     "output_type": "execute_result"
    }
   ],
   "source": [
    "import fasttext\n",
    "\n",
    "model = fasttext.train_supervised(input=\"train.txt\", lr=1.0, epoch=25, wordNgrams=2)\n",
    "model.save_model(\"model_test.bin\")\n",
    "model.test(\"test.txt\")"
   ]
  },
  {
   "cell_type": "code",
   "execution_count": 44,
   "metadata": {},
   "outputs": [],
   "source": [
    "import re\n",
    "def strip_formatting(string):\n",
    "    string = string.lower()\n",
    "    string = re.sub(r\"([.!?,'/()])\", r\" \\1 \", string)\n",
    "    string = string.replace(\"\\n\", \" \")\n",
    "    return string\n",
    "def predict(string):\n",
    "    string = strip_formatting(string)\n",
    "    print(model.predict(string))"
   ]
  },
  {
   "cell_type": "code",
   "execution_count": 45,
   "metadata": {},
   "outputs": [
    {
     "name": "stdout",
     "output_type": "stream",
     "text": [
      "(('__label__Physics',), array([0.80585706]))\n"
     ]
    }
   ],
   "source": [
    "predict(\"Why are different wavelengths of light refracted by different amounts?\")"
   ]
  }
 ],
 "metadata": {
  "kernelspec": {
   "display_name": "Python 3",
   "language": "python",
   "name": "python3"
  },
  "language_info": {
   "codemirror_mode": {
    "name": "ipython",
    "version": 3
   },
   "file_extension": ".py",
   "mimetype": "text/x-python",
   "name": "python",
   "nbconvert_exporter": "python",
   "pygments_lexer": "ipython3",
   "version": "3.8.3"
  }
 },
 "nbformat": 4,
 "nbformat_minor": 4
}
