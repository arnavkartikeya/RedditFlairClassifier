{
  "nbformat": 4,
  "nbformat_minor": 0,
  "metadata": {
    "colab": {
      "name": "data_generation.ipynb",
      "provenance": []
    },
    "kernelspec": {
      "name": "python3",
      "display_name": "Python 3"
    },
    "language_info": {
      "name": "python"
    }
  },
  "cells": [
    {
      "cell_type": "code",
      "execution_count": 1,
      "metadata": {
        "colab": {
          "base_uri": "https://localhost:8080/"
        },
        "id": "Sornl10e2AWp",
        "outputId": "0f037114-c009-41b9-a30b-6213d7d95168"
      },
      "outputs": [
        {
          "output_type": "stream",
          "name": "stdout",
          "text": [
            "Collecting praw\n",
            "  Downloading praw-7.5.0-py3-none-any.whl (176 kB)\n",
            "\u001b[?25l\r\u001b[K     |█▉                              | 10 kB 18.2 MB/s eta 0:00:01\r\u001b[K     |███▊                            | 20 kB 8.7 MB/s eta 0:00:01\r\u001b[K     |█████▋                          | 30 kB 7.9 MB/s eta 0:00:01\r\u001b[K     |███████▍                        | 40 kB 7.1 MB/s eta 0:00:01\r\u001b[K     |█████████▎                      | 51 kB 4.4 MB/s eta 0:00:01\r\u001b[K     |███████████▏                    | 61 kB 5.1 MB/s eta 0:00:01\r\u001b[K     |█████████████                   | 71 kB 5.2 MB/s eta 0:00:01\r\u001b[K     |██████████████▉                 | 81 kB 4.1 MB/s eta 0:00:01\r\u001b[K     |████████████████▊               | 92 kB 4.6 MB/s eta 0:00:01\r\u001b[K     |██████████████████▋             | 102 kB 5.0 MB/s eta 0:00:01\r\u001b[K     |████████████████████▍           | 112 kB 5.0 MB/s eta 0:00:01\r\u001b[K     |██████████████████████▎         | 122 kB 5.0 MB/s eta 0:00:01\r\u001b[K     |████████████████████████▏       | 133 kB 5.0 MB/s eta 0:00:01\r\u001b[K     |██████████████████████████      | 143 kB 5.0 MB/s eta 0:00:01\r\u001b[K     |███████████████████████████▉    | 153 kB 5.0 MB/s eta 0:00:01\r\u001b[K     |█████████████████████████████▊  | 163 kB 5.0 MB/s eta 0:00:01\r\u001b[K     |███████████████████████████████▌| 174 kB 5.0 MB/s eta 0:00:01\r\u001b[K     |████████████████████████████████| 176 kB 5.0 MB/s \n",
            "\u001b[?25hCollecting prawcore<3,>=2.1\n",
            "  Downloading prawcore-2.3.0-py3-none-any.whl (16 kB)\n",
            "Collecting update-checker>=0.18\n",
            "  Downloading update_checker-0.18.0-py3-none-any.whl (7.0 kB)\n",
            "Collecting websocket-client>=0.54.0\n",
            "  Downloading websocket_client-1.3.2-py3-none-any.whl (54 kB)\n",
            "\u001b[K     |████████████████████████████████| 54 kB 1.4 MB/s \n",
            "\u001b[?25hRequirement already satisfied: requests<3.0,>=2.6.0 in /usr/local/lib/python3.7/dist-packages (from prawcore<3,>=2.1->praw) (2.23.0)\n",
            "Requirement already satisfied: urllib3!=1.25.0,!=1.25.1,<1.26,>=1.21.1 in /usr/local/lib/python3.7/dist-packages (from requests<3.0,>=2.6.0->prawcore<3,>=2.1->praw) (1.24.3)\n",
            "Requirement already satisfied: certifi>=2017.4.17 in /usr/local/lib/python3.7/dist-packages (from requests<3.0,>=2.6.0->prawcore<3,>=2.1->praw) (2021.10.8)\n",
            "Requirement already satisfied: idna<3,>=2.5 in /usr/local/lib/python3.7/dist-packages (from requests<3.0,>=2.6.0->prawcore<3,>=2.1->praw) (2.10)\n",
            "Requirement already satisfied: chardet<4,>=3.0.2 in /usr/local/lib/python3.7/dist-packages (from requests<3.0,>=2.6.0->prawcore<3,>=2.1->praw) (3.0.4)\n",
            "Installing collected packages: websocket-client, update-checker, prawcore, praw\n",
            "Successfully installed praw-7.5.0 prawcore-2.3.0 update-checker-0.18.0 websocket-client-1.3.2\n"
          ]
        }
      ],
      "source": [
        "!pip install praw"
      ]
    },
    {
      "cell_type": "code",
      "source": [
        "import praw \n",
        "\n",
        "reddit = praw.Reddit(client_id='cjIoq63O9RwBoKegJGnQ1g', client_secret='IzrhLPNi8vxHN0uakCW6fTNi42eBeQ', username='quierohelp', password='coolkid19980', user_agent='prawtutorialv1')"
      ],
      "metadata": {
        "id": "w3IU5jru2Bbg"
      },
      "execution_count": 2,
      "outputs": []
    },
    {
      "cell_type": "code",
      "source": [
        "import csv\n",
        "import re\n",
        "from sklearn.model_selection import train_test_split\n",
        "def get_data(size, flairs, csv_path):\n",
        "  header = ['title', 'text', 'flair']\n",
        "  data = [[1, 2, 3]]\n",
        "  subreddit = reddit.subreddit('askscience')\n",
        "  hot_posts = subreddit.hot(limit=size)\n",
        "  i = 0; \n",
        "  for submissions in hot_posts:\n",
        "    temp = [1,2,3]\n",
        "    if(submissions.link_flair_text in flairs):\n",
        "      temp[0] = submissions.title\n",
        "      if(submissions.selftext == \"\"):\n",
        "        temp[1] = submissions.title\n",
        "      else:\n",
        "        temp[1] = submissions.selftext\n",
        "      temp[2] = submissions.link_flair_text\n",
        "      data.insert(i, temp)\n",
        "    i = i+1 \n",
        "  data.pop(0)\n",
        "  print(len(data))\n",
        "  with open(csv_path, 'w', encoding='UTF8') as f:\n",
        "    writer = csv.writer(f)\n",
        "    # write the header\n",
        "    writer.writerow(header)\n",
        "    # write the data\n",
        "    writer.writerows(data)\n",
        "\n",
        "def to_fasttext(csv_path, txt_path, txt_path1):\n",
        "  lines = [\"test\"]\n",
        "  \n",
        "  data = pd.read_csv(csv_path)\n",
        "  \n",
        "  y = data.iloc[:, len(data.iloc[0]) - 1]\n",
        "  print(len(y))\n",
        "\n",
        "  for i in range(len(y)):\n",
        "    text = data.iloc[i][1]\n",
        "    label = y[i]\n",
        "    text = strip_formatting(text)\n",
        "\n",
        "    s = '__label__{} {}'.format(label, text)\n",
        "    lines.insert(i, s)\n",
        "  lines.pop()\n",
        "\n",
        "  train_data, test_data = train_test_split(lines, test_size=0.1, random_state=7)\n",
        "  print(\"train_data\", len(train_data))\n",
        "  print(\"test_data\", len(test_data))\n",
        "\n",
        "  with open(txt_path, 'w') as f:\n",
        "    for line in train_data:\n",
        "      line = line.replace('\\n', \" \")\n",
        "      f.write(line)\n",
        "      f.write(\"\\n\")\n",
        "\n",
        "  with open(txt_path1, 'w') as f:\n",
        "    for line in test_data:\n",
        "      line = line.replace('\\n', \" \")\n",
        "      f.write(line)\n",
        "      f.write(\"\\n\")\n",
        "\n",
        "\n",
        "def strip_formatting(string):\n",
        "    string = string.lower()\n",
        "    string = re.sub(r\"([.!?,'/()])\", r\" \\1 \", string)\n",
        "    return string\n",
        "\n",
        "\n",
        "  \n",
        "get_data(2000, [\"Physics\", \"Astronomy\", \"Mathematics\", \"Computing\", \"Engineering\", \"Chemistry\", \"Earth Sciences\", \"Planetary Sci.\" , \"Biology\", \"Paleontology\"], \"/content/drive/MyDrive/reddit/askscience.csv\")\n",
        "to_fasttext(\"/content/drive/MyDrive/reddit/askscience.csv\", \"/content/drive/MyDrive/reddit/fasttextdata.txt\", \"/content/drive/MyDrive/reddit/fasttextdatatest.txt\")"
      ],
      "metadata": {
        "colab": {
          "base_uri": "https://localhost:8080/"
        },
        "id": "m1F7y7uuclEZ",
        "outputId": "d1bd7e07-5e1b-4863-e136-f7a7adbfc83b"
      },
      "execution_count": 153,
      "outputs": [
        {
          "output_type": "stream",
          "name": "stderr",
          "text": [
            "It appears that you are using PRAW in an asynchronous environment.\n",
            "It is strongly recommended to use Async PRAW: https://asyncpraw.readthedocs.io.\n",
            "See https://praw.readthedocs.io/en/latest/getting_started/multiple_instances.html#discord-bots-and-asynchronous-environments for more info.\n",
            "\n",
            "It appears that you are using PRAW in an asynchronous environment.\n",
            "It is strongly recommended to use Async PRAW: https://asyncpraw.readthedocs.io.\n",
            "See https://praw.readthedocs.io/en/latest/getting_started/multiple_instances.html#discord-bots-and-asynchronous-environments for more info.\n",
            "\n",
            "It appears that you are using PRAW in an asynchronous environment.\n",
            "It is strongly recommended to use Async PRAW: https://asyncpraw.readthedocs.io.\n",
            "See https://praw.readthedocs.io/en/latest/getting_started/multiple_instances.html#discord-bots-and-asynchronous-environments for more info.\n",
            "\n",
            "It appears that you are using PRAW in an asynchronous environment.\n",
            "It is strongly recommended to use Async PRAW: https://asyncpraw.readthedocs.io.\n",
            "See https://praw.readthedocs.io/en/latest/getting_started/multiple_instances.html#discord-bots-and-asynchronous-environments for more info.\n",
            "\n",
            "It appears that you are using PRAW in an asynchronous environment.\n",
            "It is strongly recommended to use Async PRAW: https://asyncpraw.readthedocs.io.\n",
            "See https://praw.readthedocs.io/en/latest/getting_started/multiple_instances.html#discord-bots-and-asynchronous-environments for more info.\n",
            "\n",
            "It appears that you are using PRAW in an asynchronous environment.\n",
            "It is strongly recommended to use Async PRAW: https://asyncpraw.readthedocs.io.\n",
            "See https://praw.readthedocs.io/en/latest/getting_started/multiple_instances.html#discord-bots-and-asynchronous-environments for more info.\n",
            "\n",
            "It appears that you are using PRAW in an asynchronous environment.\n",
            "It is strongly recommended to use Async PRAW: https://asyncpraw.readthedocs.io.\n",
            "See https://praw.readthedocs.io/en/latest/getting_started/multiple_instances.html#discord-bots-and-asynchronous-environments for more info.\n",
            "\n",
            "It appears that you are using PRAW in an asynchronous environment.\n",
            "It is strongly recommended to use Async PRAW: https://asyncpraw.readthedocs.io.\n",
            "See https://praw.readthedocs.io/en/latest/getting_started/multiple_instances.html#discord-bots-and-asynchronous-environments for more info.\n",
            "\n",
            "It appears that you are using PRAW in an asynchronous environment.\n",
            "It is strongly recommended to use Async PRAW: https://asyncpraw.readthedocs.io.\n",
            "See https://praw.readthedocs.io/en/latest/getting_started/multiple_instances.html#discord-bots-and-asynchronous-environments for more info.\n",
            "\n",
            "It appears that you are using PRAW in an asynchronous environment.\n",
            "It is strongly recommended to use Async PRAW: https://asyncpraw.readthedocs.io.\n",
            "See https://praw.readthedocs.io/en/latest/getting_started/multiple_instances.html#discord-bots-and-asynchronous-environments for more info.\n",
            "\n"
          ]
        },
        {
          "output_type": "stream",
          "name": "stdout",
          "text": [
            "644\n",
            "644\n",
            "train_data 579\n",
            "test_data 65\n"
          ]
        }
      ]
    },
    {
      "cell_type": "code",
      "source": [
        ""
      ],
      "metadata": {
        "id": "aNRpJzTHVUqY"
      },
      "execution_count": null,
      "outputs": []
    }
  ]
}